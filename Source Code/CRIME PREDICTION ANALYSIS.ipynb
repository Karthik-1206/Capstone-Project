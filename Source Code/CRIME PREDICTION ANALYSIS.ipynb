{
 "cells": [
  {
   "cell_type": "markdown",
   "id": "c06de6f6",
   "metadata": {},
   "source": [
    "IMPORTING MODULES"
   ]
  },
  {
   "cell_type": "code",
   "execution_count": null,
   "id": "20d54e39",
   "metadata": {},
   "outputs": [],
   "source": [
    "import numpy as np\n",
    "import pandas as pd\n",
    "import seaborn as sns\n",
    "import matplotlib.pyplot as plt\n",
    "from sklearn.model_selection import train_test_split\n",
    "from sklearn.metrics import accuracy_score,confusion_matrix,classification_report\n",
    "from sklearn.preprocessing import StandardScaler\n",
    "from sklearn.linear_model import LogisticRegression\n",
    "from sklearn.ensemble import RandomForestClassifier\n",
    "from sklearn.ensemble import BaggingClassifier"
   ]
  },
  {
   "cell_type": "markdown",
   "id": "72bc43ae",
   "metadata": {},
   "source": [
    "READING DATA FROM RESPECTED CSV FILE"
   ]
  },
  {
   "cell_type": "code",
   "execution_count": null,
   "id": "1d36c6a0",
   "metadata": {},
   "outputs": [],
   "source": [
    "df = pd.read_csv(\"C:/Users/karthi/Desktop/Cap_projects/Crime/data2.csv\")"
   ]
  },
  {
   "cell_type": "markdown",
   "id": "da418f46",
   "metadata": {},
   "source": [
    "DISPLAYING DATA CONTENTS"
   ]
  },
  {
   "cell_type": "code",
   "execution_count": null,
   "id": "dfad08a9",
   "metadata": {},
   "outputs": [],
   "source": [
    "df.head()"
   ]
  },
  {
   "cell_type": "markdown",
   "id": "9aed0efa",
   "metadata": {},
   "source": [
    "DISPLAYING THE SHAPE OF THE DATA"
   ]
  },
  {
   "cell_type": "code",
   "execution_count": null,
   "id": "01f910ab",
   "metadata": {},
   "outputs": [],
   "source": [
    "df.shape"
   ]
  },
  {
   "cell_type": "markdown",
   "id": "27cdef6d",
   "metadata": {},
   "source": [
    "HANDLING INCONSTITENCIES WITH COLUMN NAMES"
   ]
  },
  {
   "cell_type": "code",
   "execution_count": null,
   "id": "623c099d",
   "metadata": {},
   "outputs": [],
   "source": [
    "df.columns = df.columns.str.strip()\n",
    "df.columns = df.columns.str.replace(',', '')\n",
    "df.columns = df.columns.str.replace(' ', '_')\n",
    "df.columns = df.columns.str.lower()"
   ]
  },
  {
   "cell_type": "markdown",
   "id": "a6d6831e",
   "metadata": {},
   "source": [
    "CHECKING DATATYPES OF THE DATA"
   ]
  },
  {
   "cell_type": "code",
   "execution_count": null,
   "id": "0776a4f6",
   "metadata": {
    "scrolled": true
   },
   "outputs": [],
   "source": [
    "df.info()"
   ]
  },
  {
   "cell_type": "markdown",
   "id": "1c81a1f3",
   "metadata": {},
   "source": [
    "CHECKING THE DATA FOR ANY DUPLICATED VALUES"
   ]
  },
  {
   "cell_type": "code",
   "execution_count": null,
   "id": "2c52fb72",
   "metadata": {},
   "outputs": [],
   "source": [
    "df[df.duplicated(keep=False)]"
   ]
  },
  {
   "cell_type": "markdown",
   "id": "4458012d",
   "metadata": {},
   "source": [
    "CHECKING FOR NULL VALUES"
   ]
  },
  {
   "cell_type": "code",
   "execution_count": null,
   "id": "f8b04852",
   "metadata": {},
   "outputs": [],
   "source": [
    "df.isnull().sum()"
   ]
  },
  {
   "cell_type": "markdown",
   "id": "7a6cc6d1",
   "metadata": {},
   "source": [
    "DATA VISUALIZATION"
   ]
  },
  {
   "cell_type": "code",
   "execution_count": null,
   "id": "406c6005",
   "metadata": {},
   "outputs": [],
   "source": [
    "plt.figure(figsize=(30,10))\n",
    "sns.countplot(data=df,x='month',hue='year',order=df.month.value_counts().index,palette='Set2')"
   ]
  },
  {
   "cell_type": "markdown",
   "id": "98e7c8fa",
   "metadata": {},
   "source": [
    "From the above plot, we can able understand that CRIME COUNT of each month of the years. "
   ]
  },
  {
   "cell_type": "code",
   "execution_count": null,
   "id": "b1986d28",
   "metadata": {},
   "outputs": [],
   "source": [
    "plt.figure(figsize=(20,5))\n",
    "sns.barplot(x=df.offence.value_counts()[0:20].index, y=df.offence.value_counts()[0:20], data=df)\n",
    "plt.xticks(rotation=45)"
   ]
  },
  {
   "cell_type": "markdown",
   "id": "f965cbf3",
   "metadata": {},
   "source": [
    "From the above plots,we can see that there were a lot of ASSAULT related crimes that happened."
   ]
  },
  {
   "cell_type": "code",
   "execution_count": null,
   "id": "3c124a70",
   "metadata": {},
   "outputs": [],
   "source": [
    "plt.figure(figsize=(15,5))\n",
    "sns.countplot(data=df,x='dayofweek',order=df.dayofweek.value_counts().index)"
   ]
  },
  {
   "cell_type": "markdown",
   "id": "3eb7f7e1",
   "metadata": {},
   "source": [
    "From the above plots,we can see that there were lot of crimes happened on FRIDAY."
   ]
  },
  {
   "cell_type": "code",
   "execution_count": null,
   "id": "6291a377",
   "metadata": {},
   "outputs": [],
   "source": [
    "df.drop(['date'],axis=1,inplace=True)"
   ]
  },
  {
   "cell_type": "code",
   "execution_count": null,
   "id": "ba3ff09a",
   "metadata": {},
   "outputs": [],
   "source": [
    "df.info()"
   ]
  },
  {
   "cell_type": "markdown",
   "id": "0bcaf3d2",
   "metadata": {},
   "source": [
    "CREATING DUMMIES FOR THE DATA"
   ]
  },
  {
   "cell_type": "code",
   "execution_count": null,
   "id": "e105dca2",
   "metadata": {},
   "outputs": [],
   "source": [
    "df = pd.get_dummies(df,drop_first=True)"
   ]
  },
  {
   "cell_type": "code",
   "execution_count": null,
   "id": "f3aa881b",
   "metadata": {},
   "outputs": [],
   "source": [
    "df.info()"
   ]
  },
  {
   "cell_type": "code",
   "execution_count": null,
   "id": "c452224f",
   "metadata": {},
   "outputs": [],
   "source": [
    "df.columns"
   ]
  },
  {
   "cell_type": "markdown",
   "id": "4bbedb32",
   "metadata": {},
   "source": [
    "SPLITTING TRAINING AND TESTING DATA WITH TEST SIZE OF 30% OF ENTIRE DATA"
   ]
  },
  {
   "cell_type": "code",
   "execution_count": null,
   "id": "cd327247",
   "metadata": {},
   "outputs": [],
   "source": [
    "X=df.drop(['arrest'],axis=1)\n",
    "y=df['arrest']\n",
    "X_train, X_test, y_train, y_test = train_test_split(X,y,test_size=0.3,random_state=0)"
   ]
  },
  {
   "cell_type": "markdown",
   "id": "237715c0",
   "metadata": {},
   "source": [
    "LIST FOR STORING ACCURACY"
   ]
  },
  {
   "cell_type": "code",
   "execution_count": null,
   "id": "a89381e0",
   "metadata": {},
   "outputs": [],
   "source": [
    "models=[]\n",
    "accuracy1=[]"
   ]
  },
  {
   "cell_type": "markdown",
   "id": "8c23c144",
   "metadata": {},
   "source": [
    "FITTING THE MODEL (LOGISTIC REGRESSION)"
   ]
  },
  {
   "cell_type": "code",
   "execution_count": null,
   "id": "b007d19c",
   "metadata": {},
   "outputs": [],
   "source": [
    "from sklearn.linear_model import LogisticRegression\n",
    "LR = LogisticRegression(random_state=42)\n",
    "LR.fit(X_train,y_train)"
   ]
  },
  {
   "cell_type": "code",
   "execution_count": null,
   "id": "57399421",
   "metadata": {},
   "outputs": [],
   "source": [
    "y_pred = LR.predict(X_test)"
   ]
  },
  {
   "cell_type": "markdown",
   "id": "38b0ec98",
   "metadata": {},
   "source": [
    "COMPUTING ACCURACY,CONFUSION MATRIX AND CLASSIFICATION REPORT OF THE MODEL"
   ]
  },
  {
   "cell_type": "code",
   "execution_count": null,
   "id": "dc960ae9",
   "metadata": {},
   "outputs": [],
   "source": [
    "x = accuracy_score(y_test, y_pred)\n",
    "accuracy1.append(x)\n",
    "print(x)\n",
    "conf_matrix = confusion_matrix(y_test, y_pred)\n",
    "print(\"\")\n",
    "print(\"CONFUSION MATRIX FOR LOGISTIC REGRESSION MODEL:\\n\",conf_matrix)\n",
    "print(\"\")\n",
    "print('Classification Report\\n',classification_report(y_test, y_pred))"
   ]
  },
  {
   "cell_type": "code",
   "execution_count": null,
   "id": "2c39cd3f",
   "metadata": {},
   "outputs": [],
   "source": [
    "models.append('LR')\n",
    "dict1={'Model':\"Logistic Regression\",\"Accuracy Score\":x*100}\n",
    "lr=pd.DataFrame(dict1,index=[1])"
   ]
  },
  {
   "cell_type": "markdown",
   "id": "4516cc69",
   "metadata": {},
   "source": [
    "FITTING THE MODEL (RANDOM FOREST CLASSIFIER)"
   ]
  },
  {
   "cell_type": "code",
   "execution_count": null,
   "id": "6194e44e",
   "metadata": {},
   "outputs": [],
   "source": [
    "RF= RandomForestClassifier(n_estimators = 10,criterion='entropy',random_state=42)\n",
    "RF.fit(X_train,y_train)"
   ]
  },
  {
   "cell_type": "code",
   "execution_count": null,
   "id": "ac289300",
   "metadata": {},
   "outputs": [],
   "source": [
    "y_pred = RF.predict(X_test)"
   ]
  },
  {
   "cell_type": "markdown",
   "id": "1b37d5e5",
   "metadata": {},
   "source": [
    "COMPUTING ACCURACY,CONFUSION MATRIX AND CLASSIFICATION REPORT OF THE MODEL"
   ]
  },
  {
   "cell_type": "code",
   "execution_count": null,
   "id": "edb71373",
   "metadata": {},
   "outputs": [],
   "source": [
    "x = accuracy_score(y_test, y_pred)\n",
    "accuracy1.append(x)\n",
    "print(x)\n",
    "conf_matrix = confusion_matrix(y_test, y_pred)\n",
    "print(\"\")\n",
    "print(\"CONFUSION MATRIX FOR RANDOM FOREST MODEL:\\n\",conf_matrix)\n",
    "print(\"\")\n",
    "print('CLASSIFICATION REPORT:\\n',classification_report(y_test, y_pred))"
   ]
  },
  {
   "cell_type": "code",
   "execution_count": null,
   "id": "79a61b8c",
   "metadata": {},
   "outputs": [],
   "source": [
    "models.append('RF')\n",
    "dict2={'Model':\"Random Forest Classifier\",\"Accuracy Score\":x*100}\n",
    "rf=pd.DataFrame(dict2,index=[2])"
   ]
  },
  {
   "cell_type": "markdown",
   "id": "c5b99660",
   "metadata": {},
   "source": [
    "BAGGING CLASSIFIER"
   ]
  },
  {
   "cell_type": "code",
   "execution_count": null,
   "id": "c34d76af",
   "metadata": {},
   "outputs": [],
   "source": [
    "BC= BaggingClassifier(\n",
    "      RandomForestClassifier(class_weight='balanced'),\n",
    "    max_samples=0.5, max_features=0.5, bootstrap=False\n",
    ")\n",
    "\n",
    "BC.fit(X_train, y_train)"
   ]
  },
  {
   "cell_type": "code",
   "execution_count": null,
   "id": "cb328795",
   "metadata": {},
   "outputs": [],
   "source": [
    "def accuracy(model, data, labels):\n",
    "    \n",
    "    predictions = model.predict(data)\n",
    "    acc = accuracy_score(labels, predictions)\n",
    "    \n",
    "    return acc"
   ]
  },
  {
   "cell_type": "code",
   "execution_count": null,
   "id": "93380676",
   "metadata": {},
   "outputs": [],
   "source": [
    "y=accuracy(BC, X_train, y_train)\n",
    "accuracy1.append(y)\n",
    "print(y)\n"
   ]
  },
  {
   "cell_type": "code",
   "execution_count": null,
   "id": "31279470",
   "metadata": {},
   "outputs": [],
   "source": [
    "models.append('BC')\n",
    "dict3={'Model':\"Ensemble Technique-BaggingClassifier\",\"Accuracy Score\":y*100}\n",
    "bc=pd.DataFrame(dict3,index=[3])"
   ]
  },
  {
   "cell_type": "code",
   "execution_count": null,
   "id": "53454438",
   "metadata": {},
   "outputs": [],
   "source": [
    "result=pd.concat((lr,rf,bc),keys=['Logistic Regression','Random Forest','Bagging Classifier'])\n",
    "result"
   ]
  },
  {
   "cell_type": "code",
   "execution_count": null,
   "id": "73ff0a86",
   "metadata": {},
   "outputs": [],
   "source": []
  }
 ],
 "metadata": {
  "kernelspec": {
   "display_name": "Python 3 (ipykernel)",
   "language": "python",
   "name": "python3"
  },
  "language_info": {
   "codemirror_mode": {
    "name": "ipython",
    "version": 3
   },
   "file_extension": ".py",
   "mimetype": "text/x-python",
   "name": "python",
   "nbconvert_exporter": "python",
   "pygments_lexer": "ipython3",
   "version": "3.9.12"
  }
 },
 "nbformat": 4,
 "nbformat_minor": 5
}
